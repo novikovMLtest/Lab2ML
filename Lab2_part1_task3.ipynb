{
 "cells": [
  {
   "cell_type": "code",
   "execution_count": 1,
   "metadata": {},
   "outputs": [
    {
     "data": {
      "text/html": [
       "<div>\n",
       "<style scoped>\n",
       "    .dataframe tbody tr th:only-of-type {\n",
       "        vertical-align: middle;\n",
       "    }\n",
       "\n",
       "    .dataframe tbody tr th {\n",
       "        vertical-align: top;\n",
       "    }\n",
       "\n",
       "    .dataframe thead th {\n",
       "        text-align: right;\n",
       "    }\n",
       "</style>\n",
       "<table border=\"1\" class=\"dataframe\">\n",
       "  <thead>\n",
       "    <tr style=\"text-align: right;\">\n",
       "      <th></th>\n",
       "      <th>longitude</th>\n",
       "      <th>latitude</th>\n",
       "      <th>housing_median_age</th>\n",
       "      <th>total_rooms</th>\n",
       "      <th>total_bedrooms</th>\n",
       "      <th>population</th>\n",
       "      <th>households</th>\n",
       "      <th>median_income</th>\n",
       "      <th>median_house_value</th>\n",
       "      <th>ocean_proximity</th>\n",
       "    </tr>\n",
       "  </thead>\n",
       "  <tbody>\n",
       "    <tr>\n",
       "      <th>0</th>\n",
       "      <td>-122.23</td>\n",
       "      <td>37.88</td>\n",
       "      <td>41.0</td>\n",
       "      <td>880.0</td>\n",
       "      <td>129.0</td>\n",
       "      <td>322.0</td>\n",
       "      <td>126.0</td>\n",
       "      <td>8.3252</td>\n",
       "      <td>452600.0</td>\n",
       "      <td>NEAR BAY</td>\n",
       "    </tr>\n",
       "    <tr>\n",
       "      <th>1</th>\n",
       "      <td>-122.22</td>\n",
       "      <td>37.86</td>\n",
       "      <td>21.0</td>\n",
       "      <td>7099.0</td>\n",
       "      <td>1106.0</td>\n",
       "      <td>2401.0</td>\n",
       "      <td>1138.0</td>\n",
       "      <td>8.3014</td>\n",
       "      <td>358500.0</td>\n",
       "      <td>NEAR BAY</td>\n",
       "    </tr>\n",
       "    <tr>\n",
       "      <th>2</th>\n",
       "      <td>-122.24</td>\n",
       "      <td>37.85</td>\n",
       "      <td>52.0</td>\n",
       "      <td>1467.0</td>\n",
       "      <td>190.0</td>\n",
       "      <td>496.0</td>\n",
       "      <td>177.0</td>\n",
       "      <td>7.2574</td>\n",
       "      <td>352100.0</td>\n",
       "      <td>NEAR BAY</td>\n",
       "    </tr>\n",
       "    <tr>\n",
       "      <th>3</th>\n",
       "      <td>-122.25</td>\n",
       "      <td>37.85</td>\n",
       "      <td>52.0</td>\n",
       "      <td>1274.0</td>\n",
       "      <td>235.0</td>\n",
       "      <td>558.0</td>\n",
       "      <td>219.0</td>\n",
       "      <td>5.6431</td>\n",
       "      <td>341300.0</td>\n",
       "      <td>NEAR BAY</td>\n",
       "    </tr>\n",
       "    <tr>\n",
       "      <th>4</th>\n",
       "      <td>-122.25</td>\n",
       "      <td>37.85</td>\n",
       "      <td>52.0</td>\n",
       "      <td>1627.0</td>\n",
       "      <td>280.0</td>\n",
       "      <td>565.0</td>\n",
       "      <td>259.0</td>\n",
       "      <td>3.8462</td>\n",
       "      <td>342200.0</td>\n",
       "      <td>NEAR BAY</td>\n",
       "    </tr>\n",
       "    <tr>\n",
       "      <th>...</th>\n",
       "      <td>...</td>\n",
       "      <td>...</td>\n",
       "      <td>...</td>\n",
       "      <td>...</td>\n",
       "      <td>...</td>\n",
       "      <td>...</td>\n",
       "      <td>...</td>\n",
       "      <td>...</td>\n",
       "      <td>...</td>\n",
       "      <td>...</td>\n",
       "    </tr>\n",
       "    <tr>\n",
       "      <th>20635</th>\n",
       "      <td>-121.09</td>\n",
       "      <td>39.48</td>\n",
       "      <td>25.0</td>\n",
       "      <td>1665.0</td>\n",
       "      <td>374.0</td>\n",
       "      <td>845.0</td>\n",
       "      <td>330.0</td>\n",
       "      <td>1.5603</td>\n",
       "      <td>78100.0</td>\n",
       "      <td>INLAND</td>\n",
       "    </tr>\n",
       "    <tr>\n",
       "      <th>20636</th>\n",
       "      <td>-121.21</td>\n",
       "      <td>39.49</td>\n",
       "      <td>18.0</td>\n",
       "      <td>697.0</td>\n",
       "      <td>150.0</td>\n",
       "      <td>356.0</td>\n",
       "      <td>114.0</td>\n",
       "      <td>2.5568</td>\n",
       "      <td>77100.0</td>\n",
       "      <td>INLAND</td>\n",
       "    </tr>\n",
       "    <tr>\n",
       "      <th>20637</th>\n",
       "      <td>-121.22</td>\n",
       "      <td>39.43</td>\n",
       "      <td>17.0</td>\n",
       "      <td>2254.0</td>\n",
       "      <td>485.0</td>\n",
       "      <td>1007.0</td>\n",
       "      <td>433.0</td>\n",
       "      <td>1.7000</td>\n",
       "      <td>92300.0</td>\n",
       "      <td>INLAND</td>\n",
       "    </tr>\n",
       "    <tr>\n",
       "      <th>20638</th>\n",
       "      <td>-121.32</td>\n",
       "      <td>39.43</td>\n",
       "      <td>18.0</td>\n",
       "      <td>1860.0</td>\n",
       "      <td>409.0</td>\n",
       "      <td>741.0</td>\n",
       "      <td>349.0</td>\n",
       "      <td>1.8672</td>\n",
       "      <td>84700.0</td>\n",
       "      <td>INLAND</td>\n",
       "    </tr>\n",
       "    <tr>\n",
       "      <th>20639</th>\n",
       "      <td>-121.24</td>\n",
       "      <td>39.37</td>\n",
       "      <td>16.0</td>\n",
       "      <td>2785.0</td>\n",
       "      <td>616.0</td>\n",
       "      <td>1387.0</td>\n",
       "      <td>530.0</td>\n",
       "      <td>2.3886</td>\n",
       "      <td>89400.0</td>\n",
       "      <td>INLAND</td>\n",
       "    </tr>\n",
       "  </tbody>\n",
       "</table>\n",
       "<p>20640 rows × 10 columns</p>\n",
       "</div>"
      ],
      "text/plain": [
       "       longitude  latitude  housing_median_age  total_rooms  total_bedrooms  \\\n",
       "0        -122.23     37.88                41.0        880.0           129.0   \n",
       "1        -122.22     37.86                21.0       7099.0          1106.0   \n",
       "2        -122.24     37.85                52.0       1467.0           190.0   \n",
       "3        -122.25     37.85                52.0       1274.0           235.0   \n",
       "4        -122.25     37.85                52.0       1627.0           280.0   \n",
       "...          ...       ...                 ...          ...             ...   \n",
       "20635    -121.09     39.48                25.0       1665.0           374.0   \n",
       "20636    -121.21     39.49                18.0        697.0           150.0   \n",
       "20637    -121.22     39.43                17.0       2254.0           485.0   \n",
       "20638    -121.32     39.43                18.0       1860.0           409.0   \n",
       "20639    -121.24     39.37                16.0       2785.0           616.0   \n",
       "\n",
       "       population  households  median_income  median_house_value  \\\n",
       "0           322.0       126.0         8.3252            452600.0   \n",
       "1          2401.0      1138.0         8.3014            358500.0   \n",
       "2           496.0       177.0         7.2574            352100.0   \n",
       "3           558.0       219.0         5.6431            341300.0   \n",
       "4           565.0       259.0         3.8462            342200.0   \n",
       "...           ...         ...            ...                 ...   \n",
       "20635       845.0       330.0         1.5603             78100.0   \n",
       "20636       356.0       114.0         2.5568             77100.0   \n",
       "20637      1007.0       433.0         1.7000             92300.0   \n",
       "20638       741.0       349.0         1.8672             84700.0   \n",
       "20639      1387.0       530.0         2.3886             89400.0   \n",
       "\n",
       "      ocean_proximity  \n",
       "0            NEAR BAY  \n",
       "1            NEAR BAY  \n",
       "2            NEAR BAY  \n",
       "3            NEAR BAY  \n",
       "4            NEAR BAY  \n",
       "...               ...  \n",
       "20635          INLAND  \n",
       "20636          INLAND  \n",
       "20637          INLAND  \n",
       "20638          INLAND  \n",
       "20639          INLAND  \n",
       "\n",
       "[20640 rows x 10 columns]"
      ]
     },
     "execution_count": 1,
     "metadata": {},
     "output_type": "execute_result"
    }
   ],
   "source": [
    "import numpy as np\n",
    "import pandas as pd\n",
    "import matplotlib.pyplot as plt\n",
    "\n",
    "\n",
    "path = \"housing.csv\"\n",
    "df = pd.read_csv(path,sep = ',')\n",
    "\n",
    "df"
   ]
  },
  {
   "cell_type": "code",
   "execution_count": 2,
   "metadata": {},
   "outputs": [
    {
     "name": "stdout",
     "output_type": "stream",
     "text": [
      "<class 'pandas.core.frame.DataFrame'>\n",
      "RangeIndex: 20640 entries, 0 to 20639\n",
      "Data columns (total 10 columns):\n",
      " #   Column              Non-Null Count  Dtype  \n",
      "---  ------              --------------  -----  \n",
      " 0   longitude           20640 non-null  float64\n",
      " 1   latitude            20640 non-null  float64\n",
      " 2   housing_median_age  20640 non-null  float64\n",
      " 3   total_rooms         20640 non-null  float64\n",
      " 4   total_bedrooms      20433 non-null  float64\n",
      " 5   population          20640 non-null  float64\n",
      " 6   households          20640 non-null  float64\n",
      " 7   median_income       20640 non-null  float64\n",
      " 8   median_house_value  20640 non-null  float64\n",
      " 9   ocean_proximity     20640 non-null  object \n",
      "dtypes: float64(9), object(1)\n",
      "memory usage: 1.6+ MB\n"
     ]
    }
   ],
   "source": [
    "df.info() #Видим что пропущенные значение есть ТОЛЬКО у признака total_bedrooms"
   ]
  },
  {
   "cell_type": "code",
   "execution_count": 3,
   "metadata": {},
   "outputs": [
    {
     "name": "stdout",
     "output_type": "stream",
     "text": [
      "0\n"
     ]
    }
   ],
   "source": [
    "print(df.duplicated().sum())\n"
   ]
  },
  {
   "cell_type": "code",
   "execution_count": 4,
   "metadata": {},
   "outputs": [],
   "source": [
    "# Проведите преобразование категориального признака ocean_proximity через OneHot или Dummy-кодировку\n",
    "\n",
    "#one_hot encoding\n",
    "one_hot = pd.get_dummies(df['ocean_proximity'])\n",
    "df = df.drop('ocean_proximity',axis = 1)\n",
    "df = df.join(one_hot)"
   ]
  },
  {
   "cell_type": "code",
   "execution_count": 5,
   "metadata": {
    "scrolled": false
   },
   "outputs": [
    {
     "name": "stdout",
     "output_type": "stream",
     "text": [
      "<class 'pandas.core.frame.DataFrame'>\n",
      "RangeIndex: 20640 entries, 0 to 20639\n",
      "Data columns (total 14 columns):\n",
      " #   Column              Non-Null Count  Dtype  \n",
      "---  ------              --------------  -----  \n",
      " 0   longitude           20640 non-null  float64\n",
      " 1   latitude            20640 non-null  float64\n",
      " 2   housing_median_age  20640 non-null  float64\n",
      " 3   total_rooms         20640 non-null  float64\n",
      " 4   total_bedrooms      20433 non-null  float64\n",
      " 5   population          20640 non-null  float64\n",
      " 6   households          20640 non-null  float64\n",
      " 7   median_income       20640 non-null  float64\n",
      " 8   median_house_value  20640 non-null  float64\n",
      " 9   <1H OCEAN           20640 non-null  uint8  \n",
      " 10  INLAND              20640 non-null  uint8  \n",
      " 11  ISLAND              20640 non-null  uint8  \n",
      " 12  NEAR BAY            20640 non-null  uint8  \n",
      " 13  NEAR OCEAN          20640 non-null  uint8  \n",
      "dtypes: float64(9), uint8(5)\n",
      "memory usage: 1.5 MB\n"
     ]
    }
   ],
   "source": [
    "df.info()"
   ]
  },
  {
   "cell_type": "code",
   "execution_count": 6,
   "metadata": {},
   "outputs": [
    {
     "data": {
      "text/html": [
       "<div>\n",
       "<style scoped>\n",
       "    .dataframe tbody tr th:only-of-type {\n",
       "        vertical-align: middle;\n",
       "    }\n",
       "\n",
       "    .dataframe tbody tr th {\n",
       "        vertical-align: top;\n",
       "    }\n",
       "\n",
       "    .dataframe thead th {\n",
       "        text-align: right;\n",
       "    }\n",
       "</style>\n",
       "<table border=\"1\" class=\"dataframe\">\n",
       "  <thead>\n",
       "    <tr style=\"text-align: right;\">\n",
       "      <th></th>\n",
       "      <th>longitude</th>\n",
       "      <th>latitude</th>\n",
       "      <th>housing_median_age</th>\n",
       "      <th>average_rooms</th>\n",
       "      <th>average_bedrooms</th>\n",
       "      <th>population</th>\n",
       "      <th>households</th>\n",
       "      <th>median_income</th>\n",
       "      <th>median_house_value</th>\n",
       "      <th>&lt;1H OCEAN</th>\n",
       "      <th>INLAND</th>\n",
       "      <th>ISLAND</th>\n",
       "      <th>NEAR BAY</th>\n",
       "      <th>NEAR OCEAN</th>\n",
       "    </tr>\n",
       "  </thead>\n",
       "  <tbody>\n",
       "    <tr>\n",
       "      <th>0</th>\n",
       "      <td>-122.23</td>\n",
       "      <td>37.88</td>\n",
       "      <td>41.0</td>\n",
       "      <td>6.984127</td>\n",
       "      <td>1.023810</td>\n",
       "      <td>322.0</td>\n",
       "      <td>126.0</td>\n",
       "      <td>8.3252</td>\n",
       "      <td>452600.0</td>\n",
       "      <td>0.0</td>\n",
       "      <td>0.0</td>\n",
       "      <td>0.0</td>\n",
       "      <td>1.0</td>\n",
       "      <td>0.0</td>\n",
       "    </tr>\n",
       "    <tr>\n",
       "      <th>1</th>\n",
       "      <td>-122.22</td>\n",
       "      <td>37.86</td>\n",
       "      <td>21.0</td>\n",
       "      <td>6.238137</td>\n",
       "      <td>0.971880</td>\n",
       "      <td>2401.0</td>\n",
       "      <td>1138.0</td>\n",
       "      <td>8.3014</td>\n",
       "      <td>358500.0</td>\n",
       "      <td>0.0</td>\n",
       "      <td>0.0</td>\n",
       "      <td>0.0</td>\n",
       "      <td>1.0</td>\n",
       "      <td>0.0</td>\n",
       "    </tr>\n",
       "    <tr>\n",
       "      <th>2</th>\n",
       "      <td>-122.24</td>\n",
       "      <td>37.85</td>\n",
       "      <td>52.0</td>\n",
       "      <td>8.288136</td>\n",
       "      <td>1.073446</td>\n",
       "      <td>496.0</td>\n",
       "      <td>177.0</td>\n",
       "      <td>7.2574</td>\n",
       "      <td>352100.0</td>\n",
       "      <td>0.0</td>\n",
       "      <td>0.0</td>\n",
       "      <td>0.0</td>\n",
       "      <td>1.0</td>\n",
       "      <td>0.0</td>\n",
       "    </tr>\n",
       "    <tr>\n",
       "      <th>3</th>\n",
       "      <td>-122.25</td>\n",
       "      <td>37.85</td>\n",
       "      <td>52.0</td>\n",
       "      <td>5.817352</td>\n",
       "      <td>1.073059</td>\n",
       "      <td>558.0</td>\n",
       "      <td>219.0</td>\n",
       "      <td>5.6431</td>\n",
       "      <td>341300.0</td>\n",
       "      <td>0.0</td>\n",
       "      <td>0.0</td>\n",
       "      <td>0.0</td>\n",
       "      <td>1.0</td>\n",
       "      <td>0.0</td>\n",
       "    </tr>\n",
       "    <tr>\n",
       "      <th>4</th>\n",
       "      <td>-122.25</td>\n",
       "      <td>37.85</td>\n",
       "      <td>52.0</td>\n",
       "      <td>6.281853</td>\n",
       "      <td>1.081081</td>\n",
       "      <td>565.0</td>\n",
       "      <td>259.0</td>\n",
       "      <td>3.8462</td>\n",
       "      <td>342200.0</td>\n",
       "      <td>0.0</td>\n",
       "      <td>0.0</td>\n",
       "      <td>0.0</td>\n",
       "      <td>1.0</td>\n",
       "      <td>0.0</td>\n",
       "    </tr>\n",
       "    <tr>\n",
       "      <th>...</th>\n",
       "      <td>...</td>\n",
       "      <td>...</td>\n",
       "      <td>...</td>\n",
       "      <td>...</td>\n",
       "      <td>...</td>\n",
       "      <td>...</td>\n",
       "      <td>...</td>\n",
       "      <td>...</td>\n",
       "      <td>...</td>\n",
       "      <td>...</td>\n",
       "      <td>...</td>\n",
       "      <td>...</td>\n",
       "      <td>...</td>\n",
       "      <td>...</td>\n",
       "    </tr>\n",
       "    <tr>\n",
       "      <th>20635</th>\n",
       "      <td>-121.09</td>\n",
       "      <td>39.48</td>\n",
       "      <td>25.0</td>\n",
       "      <td>5.045455</td>\n",
       "      <td>1.133333</td>\n",
       "      <td>845.0</td>\n",
       "      <td>330.0</td>\n",
       "      <td>1.5603</td>\n",
       "      <td>78100.0</td>\n",
       "      <td>0.0</td>\n",
       "      <td>1.0</td>\n",
       "      <td>0.0</td>\n",
       "      <td>0.0</td>\n",
       "      <td>0.0</td>\n",
       "    </tr>\n",
       "    <tr>\n",
       "      <th>20636</th>\n",
       "      <td>-121.21</td>\n",
       "      <td>39.49</td>\n",
       "      <td>18.0</td>\n",
       "      <td>6.114035</td>\n",
       "      <td>1.315789</td>\n",
       "      <td>356.0</td>\n",
       "      <td>114.0</td>\n",
       "      <td>2.5568</td>\n",
       "      <td>77100.0</td>\n",
       "      <td>0.0</td>\n",
       "      <td>1.0</td>\n",
       "      <td>0.0</td>\n",
       "      <td>0.0</td>\n",
       "      <td>0.0</td>\n",
       "    </tr>\n",
       "    <tr>\n",
       "      <th>20637</th>\n",
       "      <td>-121.22</td>\n",
       "      <td>39.43</td>\n",
       "      <td>17.0</td>\n",
       "      <td>5.205543</td>\n",
       "      <td>1.120092</td>\n",
       "      <td>1007.0</td>\n",
       "      <td>433.0</td>\n",
       "      <td>1.7000</td>\n",
       "      <td>92300.0</td>\n",
       "      <td>0.0</td>\n",
       "      <td>1.0</td>\n",
       "      <td>0.0</td>\n",
       "      <td>0.0</td>\n",
       "      <td>0.0</td>\n",
       "    </tr>\n",
       "    <tr>\n",
       "      <th>20638</th>\n",
       "      <td>-121.32</td>\n",
       "      <td>39.43</td>\n",
       "      <td>18.0</td>\n",
       "      <td>5.329513</td>\n",
       "      <td>1.171920</td>\n",
       "      <td>741.0</td>\n",
       "      <td>349.0</td>\n",
       "      <td>1.8672</td>\n",
       "      <td>84700.0</td>\n",
       "      <td>0.0</td>\n",
       "      <td>1.0</td>\n",
       "      <td>0.0</td>\n",
       "      <td>0.0</td>\n",
       "      <td>0.0</td>\n",
       "    </tr>\n",
       "    <tr>\n",
       "      <th>20639</th>\n",
       "      <td>-121.24</td>\n",
       "      <td>39.37</td>\n",
       "      <td>16.0</td>\n",
       "      <td>5.254717</td>\n",
       "      <td>1.162264</td>\n",
       "      <td>1387.0</td>\n",
       "      <td>530.0</td>\n",
       "      <td>2.3886</td>\n",
       "      <td>89400.0</td>\n",
       "      <td>0.0</td>\n",
       "      <td>1.0</td>\n",
       "      <td>0.0</td>\n",
       "      <td>0.0</td>\n",
       "      <td>0.0</td>\n",
       "    </tr>\n",
       "  </tbody>\n",
       "</table>\n",
       "<p>20640 rows × 14 columns</p>\n",
       "</div>"
      ],
      "text/plain": [
       "       longitude  latitude  housing_median_age  average_rooms  \\\n",
       "0        -122.23     37.88                41.0       6.984127   \n",
       "1        -122.22     37.86                21.0       6.238137   \n",
       "2        -122.24     37.85                52.0       8.288136   \n",
       "3        -122.25     37.85                52.0       5.817352   \n",
       "4        -122.25     37.85                52.0       6.281853   \n",
       "...          ...       ...                 ...            ...   \n",
       "20635    -121.09     39.48                25.0       5.045455   \n",
       "20636    -121.21     39.49                18.0       6.114035   \n",
       "20637    -121.22     39.43                17.0       5.205543   \n",
       "20638    -121.32     39.43                18.0       5.329513   \n",
       "20639    -121.24     39.37                16.0       5.254717   \n",
       "\n",
       "       average_bedrooms  population  households  median_income  \\\n",
       "0              1.023810       322.0       126.0         8.3252   \n",
       "1              0.971880      2401.0      1138.0         8.3014   \n",
       "2              1.073446       496.0       177.0         7.2574   \n",
       "3              1.073059       558.0       219.0         5.6431   \n",
       "4              1.081081       565.0       259.0         3.8462   \n",
       "...                 ...         ...         ...            ...   \n",
       "20635          1.133333       845.0       330.0         1.5603   \n",
       "20636          1.315789       356.0       114.0         2.5568   \n",
       "20637          1.120092      1007.0       433.0         1.7000   \n",
       "20638          1.171920       741.0       349.0         1.8672   \n",
       "20639          1.162264      1387.0       530.0         2.3886   \n",
       "\n",
       "       median_house_value  <1H OCEAN  INLAND  ISLAND  NEAR BAY  NEAR OCEAN  \n",
       "0                452600.0        0.0     0.0     0.0       1.0         0.0  \n",
       "1                358500.0        0.0     0.0     0.0       1.0         0.0  \n",
       "2                352100.0        0.0     0.0     0.0       1.0         0.0  \n",
       "3                341300.0        0.0     0.0     0.0       1.0         0.0  \n",
       "4                342200.0        0.0     0.0     0.0       1.0         0.0  \n",
       "...                   ...        ...     ...     ...       ...         ...  \n",
       "20635             78100.0        0.0     1.0     0.0       0.0         0.0  \n",
       "20636             77100.0        0.0     1.0     0.0       0.0         0.0  \n",
       "20637             92300.0        0.0     1.0     0.0       0.0         0.0  \n",
       "20638             84700.0        0.0     1.0     0.0       0.0         0.0  \n",
       "20639             89400.0        0.0     1.0     0.0       0.0         0.0  \n",
       "\n",
       "[20640 rows x 14 columns]"
      ]
     },
     "execution_count": 6,
     "metadata": {},
     "output_type": "execute_result"
    }
   ],
   "source": [
    "#Замените признаки total_rooms и total_bedrooms на average_rooms и average_bedrooms (поделив на households).\n",
    "\n",
    "def avg_bedrooms(row):\n",
    "    row['total_bedrooms']= row['total_bedrooms']/row['households']\n",
    "    return row\n",
    "\n",
    "df = df.apply(avg_bedrooms,axis=1)\n",
    "\n",
    "def avg_rooms(row):\n",
    "    row['total_rooms']= row['total_rooms']/row['households']\n",
    "    return row\n",
    "\n",
    "df = df.apply(avg_rooms,axis=1)\n",
    "\n",
    "\n",
    "df = df.rename({'total_bedrooms': 'average_bedrooms', 'total_rooms': 'average_rooms'}, axis=1) \n",
    "df"
   ]
  },
  {
   "cell_type": "code",
   "execution_count": 7,
   "metadata": {},
   "outputs": [
    {
     "data": {
      "text/plain": [
       "(2064, 14)"
      ]
     },
     "execution_count": 7,
     "metadata": {},
     "output_type": "execute_result"
    }
   ],
   "source": [
    "# Разбейте датасет на тренировочную, валидационную и тестовую выборку\n",
    "\n",
    "\n",
    "from sklearn.model_selection import train_test_split\n",
    "\n",
    "df_train_val, df_test = train_test_split(df, test_size=0.1)\n",
    "df_test.shape"
   ]
  },
  {
   "cell_type": "code",
   "execution_count": 8,
   "metadata": {},
   "outputs": [
    {
     "name": "stdout",
     "output_type": "stream",
     "text": [
      "(12445, 14)\n",
      "(6131, 14)\n"
     ]
    }
   ],
   "source": [
    "df_train, df_val = train_test_split(df_train_val, test_size = 0.33)\n",
    "print(df_train.shape)\n",
    "print(df_val.shape)"
   ]
  },
  {
   "cell_type": "code",
   "execution_count": 9,
   "metadata": {},
   "outputs": [
    {
     "name": "stdout",
     "output_type": "stream",
     "text": [
      "0.1\n",
      "0.29704457364341086\n",
      "0.6029554263565892\n"
     ]
    }
   ],
   "source": [
    "test_size = (df_test.shape[0]/df.shape[0]) #Размер выборок в процентах\n",
    "print(test_size)\n",
    "val_size = (df_val.shape[0]/df.shape[0])\n",
    "print(val_size)\n",
    "train_size = (df_train.shape[0]/df.shape[0])\n",
    "print(train_size)"
   ]
  },
  {
   "cell_type": "code",
   "execution_count": 10,
   "metadata": {
    "scrolled": true
   },
   "outputs": [
    {
     "name": "stdout",
     "output_type": "stream",
     "text": [
      "<class 'pandas.core.frame.DataFrame'>\n",
      "RangeIndex: 20640 entries, 0 to 20639\n",
      "Data columns (total 14 columns):\n",
      " #   Column              Non-Null Count  Dtype  \n",
      "---  ------              --------------  -----  \n",
      " 0   longitude           20640 non-null  float64\n",
      " 1   latitude            20640 non-null  float64\n",
      " 2   housing_median_age  20640 non-null  float64\n",
      " 3   average_rooms       20640 non-null  float64\n",
      " 4   average_bedrooms    20433 non-null  float64\n",
      " 5   population          20640 non-null  float64\n",
      " 6   households          20640 non-null  float64\n",
      " 7   median_income       20640 non-null  float64\n",
      " 8   median_house_value  20640 non-null  float64\n",
      " 9   <1H OCEAN           20640 non-null  float64\n",
      " 10  INLAND              20640 non-null  float64\n",
      " 11  ISLAND              20640 non-null  float64\n",
      " 12  NEAR BAY            20640 non-null  float64\n",
      " 13  NEAR OCEAN          20640 non-null  float64\n",
      "dtypes: float64(14)\n",
      "memory usage: 2.2 MB\n"
     ]
    }
   ],
   "source": [
    "df.info()"
   ]
  },
  {
   "cell_type": "code",
   "execution_count": 11,
   "metadata": {},
   "outputs": [
    {
     "data": {
      "text/plain": [
       "207"
      ]
     },
     "execution_count": 11,
     "metadata": {},
     "output_type": "execute_result"
    }
   ],
   "source": [
    "df['average_bedrooms'].isnull().sum() #Число экземпляров данных, для которых признак average_bedrooms отсутствует."
   ]
  },
  {
   "cell_type": "code",
   "execution_count": 12,
   "metadata": {
    "scrolled": true
   },
   "outputs": [
    {
     "name": "stdout",
     "output_type": "stream",
     "text": [
      "<class 'pandas.core.frame.DataFrame'>\n",
      "Int64Index: 2064 entries, 3868 to 2912\n",
      "Data columns (total 14 columns):\n",
      " #   Column              Non-Null Count  Dtype  \n",
      "---  ------              --------------  -----  \n",
      " 0   longitude           2064 non-null   float64\n",
      " 1   latitude            2064 non-null   float64\n",
      " 2   housing_median_age  2064 non-null   float64\n",
      " 3   average_rooms       2064 non-null   float64\n",
      " 4   average_bedrooms    2035 non-null   float64\n",
      " 5   population          2064 non-null   float64\n",
      " 6   households          2064 non-null   float64\n",
      " 7   median_income       2064 non-null   float64\n",
      " 8   median_house_value  2064 non-null   float64\n",
      " 9   <1H OCEAN           2064 non-null   float64\n",
      " 10  INLAND              2064 non-null   float64\n",
      " 11  ISLAND              2064 non-null   float64\n",
      " 12  NEAR BAY            2064 non-null   float64\n",
      " 13  NEAR OCEAN          2064 non-null   float64\n",
      "dtypes: float64(14)\n",
      "memory usage: 241.9 KB\n",
      "<class 'pandas.core.frame.DataFrame'>\n",
      "Int64Index: 6131 entries, 18525 to 14239\n",
      "Data columns (total 14 columns):\n",
      " #   Column              Non-Null Count  Dtype  \n",
      "---  ------              --------------  -----  \n",
      " 0   longitude           6131 non-null   float64\n",
      " 1   latitude            6131 non-null   float64\n",
      " 2   housing_median_age  6131 non-null   float64\n",
      " 3   average_rooms       6131 non-null   float64\n",
      " 4   average_bedrooms    6077 non-null   float64\n",
      " 5   population          6131 non-null   float64\n",
      " 6   households          6131 non-null   float64\n",
      " 7   median_income       6131 non-null   float64\n",
      " 8   median_house_value  6131 non-null   float64\n",
      " 9   <1H OCEAN           6131 non-null   float64\n",
      " 10  INLAND              6131 non-null   float64\n",
      " 11  ISLAND              6131 non-null   float64\n",
      " 12  NEAR BAY            6131 non-null   float64\n",
      " 13  NEAR OCEAN          6131 non-null   float64\n",
      "dtypes: float64(14)\n",
      "memory usage: 718.5 KB\n",
      "<class 'pandas.core.frame.DataFrame'>\n",
      "Int64Index: 12445 entries, 10801 to 13529\n",
      "Data columns (total 14 columns):\n",
      " #   Column              Non-Null Count  Dtype  \n",
      "---  ------              --------------  -----  \n",
      " 0   longitude           12445 non-null  float64\n",
      " 1   latitude            12445 non-null  float64\n",
      " 2   housing_median_age  12445 non-null  float64\n",
      " 3   average_rooms       12445 non-null  float64\n",
      " 4   average_bedrooms    12321 non-null  float64\n",
      " 5   population          12445 non-null  float64\n",
      " 6   households          12445 non-null  float64\n",
      " 7   median_income       12445 non-null  float64\n",
      " 8   median_house_value  12445 non-null  float64\n",
      " 9   <1H OCEAN           12445 non-null  float64\n",
      " 10  INLAND              12445 non-null  float64\n",
      " 11  ISLAND              12445 non-null  float64\n",
      " 12  NEAR BAY            12445 non-null  float64\n",
      " 13  NEAR OCEAN          12445 non-null  float64\n",
      "dtypes: float64(14)\n",
      "memory usage: 1.4 MB\n"
     ]
    }
   ],
   "source": [
    "df_test.info()\n",
    "df_val.info()\n",
    "df_train.info()"
   ]
  },
  {
   "cell_type": "code",
   "execution_count": 13,
   "metadata": {
    "scrolled": true
   },
   "outputs": [
    {
     "name": "stdout",
     "output_type": "stream",
     "text": [
      "29\n",
      "54\n",
      "124\n"
     ]
    }
   ],
   "source": [
    "print(df_test['average_bedrooms'].isnull().sum()) #Пропущенных в тестовой\n",
    "print(df_val['average_bedrooms'].isnull().sum()) #Пропущенных в валидационной\n",
    "print(df_train['average_bedrooms'].isnull().sum()) #Пропущенных в обучающей"
   ]
  },
  {
   "cell_type": "code",
   "execution_count": 14,
   "metadata": {
    "scrolled": true
   },
   "outputs": [
    {
     "data": {
      "image/png": "[encoded data removed]",
      "text/plain": [
       "<Figure size 432x288 with 1 Axes>"
      ]
     },
     "metadata": {
      "needs_background": "light"
     },
     "output_type": "display_data"
    }
   ],
   "source": [
    "import seaborn as sns\n",
    "\n",
    "snsplot = sns.kdeplot(df['average_bedrooms'], shade=True)\n",
    "fig = snsplot.get_figure()"
   ]
  },
  {
   "cell_type": "code",
   "execution_count": 15,
   "metadata": {
    "scrolled": true
   },
   "outputs": [
    {
     "data": {
      "image/png": "[encoded data removed]",
      "text/plain": [
       "<Figure size 432x288 with 1 Axes>"
      ]
     },
     "metadata": {
      "needs_background": "light"
     },
     "output_type": "display_data"
    }
   ],
   "source": [
    "# В признаке average_bedrooms (total_bedrooms) есть отсутствующие значения.\n",
    "# Определите число экземпляров данных, для которых этот признак отсутствует.\n",
    "# Придумайте и обоснуйте стратегию заполнения пропусков в этой задаче. Заполните пропуски.\n",
    "\n",
    "df2 = df.copy()\n",
    "cols = ['average_bedrooms']\n",
    "df2[cols] = df2[df2[cols] < 2][cols]\n",
    "df2.dropna()\n",
    "\n",
    "snsplot = sns.kdeplot(df2['average_bedrooms'], shade=True)\n",
    "fig = snsplot.get_figure()\n",
    "\n",
    "\n",
    "#По графику буду считать распределение за нормальное при генерации (хотя оно не совсем таково)"
   ]
  },
  {
   "cell_type": "code",
   "execution_count": 16,
   "metadata": {},
   "outputs": [],
   "source": [
    "def metric(df, column):\n",
    "    mn = df[column].mean()\n",
    "    st = df[column].std()\n",
    "    return [mn,st]\n",
    "    \n",
    "def row_correct(row, mn,st, column):\n",
    "    if row.isnull().sum()!=0:\n",
    "        row[column] = np.random.normal(mn,st)\n",
    "    return row\n",
    "\n",
    "def fill_gaps(df, column):\n",
    "    mn, st = metric(df, column)\n",
    "    df = df.apply(lambda x: row_correct(x,mn,st, column), axis=1)\n",
    "    return df\n",
    "    \n",
    "column = 'average_bedrooms'\n",
    "    \n",
    "df_val = fill_gaps(df_val, column)\n",
    "df_train = fill_gaps(df_train, column)\n",
    "df_test = fill_gaps(df_test, column)\n"
   ]
  },
  {
   "cell_type": "code",
   "execution_count": 17,
   "metadata": {},
   "outputs": [
    {
     "name": "stdout",
     "output_type": "stream",
     "text": [
      "0\n",
      "0\n",
      "0\n"
     ]
    }
   ],
   "source": [
    "print(df_test['average_bedrooms'].isnull().sum()) #Пропущенных в тестовой\n",
    "print(df_val['average_bedrooms'].isnull().sum()) #Пропущенных в валидационной\n",
    "print(df_train['average_bedrooms'].isnull().sum()) #Пропущенных в обучающей"
   ]
  },
  {
   "cell_type": "code",
   "execution_count": 18,
   "metadata": {},
   "outputs": [],
   "source": [
    "# Нормализуйте признаки longitude и latitude (сделайте так, чтобы каждый признак имел среднее значение\n",
    "# 0 и дисперсию 1 внутри обучающей выборки)\n",
    "\n",
    "\n",
    "from sklearn import preprocessing\n",
    "\n",
    "def row_normalize(row, mn, st, column):#z преобразование\n",
    "    row[column] = (row[column]-mn)/st\n",
    "    return row\n",
    "\n",
    "def df_normalize(df, columns):    \n",
    "    for column in columns:\n",
    "        mn,st = metric(df, column)\n",
    "        df = df.apply(lambda x: row_normalize(x,mn,st, column), axis=1)\n",
    "    return df\n",
    "    \n",
    "df_test = df_normalize(df_test,['longitude', 'latitude'])\n",
    "df_val = df_normalize(df_val,['longitude', 'latitude'])\n",
    "df_train = df_normalize(df_train,['longitude', 'latitude'])"
   ]
  },
  {
   "cell_type": "code",
   "execution_count": 19,
   "metadata": {},
   "outputs": [
    {
     "name": "stdout",
     "output_type": "stream",
     "text": [
      "Среднее  longitude : -1.2797396647988579e-13\n",
      "Дисперсия  longitude : 1.0000000000000004\n",
      "Среднее  latitude : -6.591929037508658e-15\n",
      "Дисперсия  latitude : 0.9999999999999987\n",
      "Среднее  longitude : -4.931012737621561e-15\n",
      "Дисперсия  longitude : 0.9999999999999971\n",
      "Среднее  latitude : -1.8402394814859237e-14\n",
      "Дисперсия  latitude : 0.999999999999986\n",
      "Среднее  longitude : -6.45049301237283e-14\n",
      "Дисперсия  longitude : 0.9999999999999951\n",
      "Среднее  latitude : 2.5800530409951107e-16\n",
      "Дисперсия  latitude : 1.000000000000013\n"
     ]
    }
   ],
   "source": [
    "def print_mn_st(df, cols):\n",
    "    for c in cols:\n",
    "        print('Среднее ', c, ':',  df[c].mean())\n",
    "        print('Дисперсия ', c, ':',df[c].std())\n",
    "        \n",
    "cols = ['longitude', 'latitude']\n",
    "\n",
    "print_mn_st(df_test, cols)\n",
    "print_mn_st(df_val, cols)\n",
    "print_mn_st(df_train, cols)"
   ]
  },
  {
   "cell_type": "code",
   "execution_count": null,
   "metadata": {},
   "outputs": [],
   "source": []
  },
  {
   "cell_type": "code",
   "execution_count": null,
   "metadata": {},
   "outputs": [],
   "source": []
  }
 ],
 "metadata": {
  "kernelspec": {
   "display_name": "Python 3",
   "language": "python",
   "name": "python3"
  },
  "language_info": {
   "codemirror_mode": {
    "name": "ipython",
    "version": 3
   },
   "file_extension": ".py",
   "mimetype": "text/x-python",
   "name": "python",
   "nbconvert_exporter": "python",
   "pygments_lexer": "ipython3",
   "version": "3.8.5"
  }
 },
 "nbformat": 4,
 "nbformat_minor": 4
}
